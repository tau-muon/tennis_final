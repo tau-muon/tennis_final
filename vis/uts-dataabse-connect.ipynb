{
 "cells": [
  {
   "cell_type": "markdown",
   "id": "0aa05edc-c4d7-46dc-be9e-23e689803c80",
   "metadata": {},
   "source": [
    "# Access tennis mcekovic/uts-database through jupyter lab/notebook query it and export results to excel file."
   ]
  },
  {
   "cell_type": "markdown",
   "id": "9420b209-154f-4569-8150-3d609cb21df9",
   "metadata": {},
   "source": [
    "### Doceker pull command:   docker pull mcekovic/uts-database"
   ]
  },
  {
   "cell_type": "raw",
   "id": "d979f58d-8b15-43df-b30d-3762c6d51981",
   "metadata": {},
   "source": [
    "Ultimate Tennis Statistics and Tennis Crystal Ball pre-populated database with ATP tennis data as of season 2021.\n",
    "\n",
    "Run the container as:\n",
    "\n",
    "docker run -p 5432:5432 -d --name uts-database mcekovic/uts-database\n",
    "\n",
    "Enter PostgreSQL client command line tool:\n",
    "\n",
    "docker exec -it uts-database psql -U tcb\n",
    "\n",
    "Execute SQL commands, like:\n",
    "\n",
    "SELECT goat_rank, name, country_id, goat_points FROM player_v ORDER BY goat_points DESC NULLS LAST LIMIT 20;\n",
    "\n",
    "To exit psql command line tool: quit\n",
    "\n",
    "To stop Docker container running UTS database: docker stop uts-database\n",
    "\n",
    "More information about relational schema model can be found here: https://github.com/mcekovic/tennis-crystal-ball/issues/337"
   ]
  },
  {
   "cell_type": "code",
   "execution_count": 8,
   "id": "2c3f723e-47ca-407a-893a-4494dd39bd5c",
   "metadata": {},
   "outputs": [],
   "source": [
    "import psycopg2"
   ]
  },
  {
   "cell_type": "markdown",
   "id": "564d92c7-b721-4617-b0d6-997fde7d54e3",
   "metadata": {},
   "source": [
    "## Connect to the DB"
   ]
  },
  {
   "cell_type": "code",
   "execution_count": 9,
   "id": "caf990aa-6f82-40a3-8a60-dbf9e385ef23",
   "metadata": {},
   "outputs": [
    {
     "name": "stdout",
     "output_type": "stream",
     "text": [
      "{'user': 'tcb', 'dbname': 'tcb', 'host': 'localhost', 'port': '5432', 'tty': '', 'options': '', 'sslmode': 'prefer', 'sslcompression': '0', 'gssencmode': 'prefer', 'krbsrvname': 'postgres', 'target_session_attrs': 'any'} \n",
      "\n",
      "You are connected to -  ('PostgreSQL 14.1 (Debian 14.1-1.pgdg110+1) on x86_64-pc-linux-gnu, compiled by gcc (Debian 10.2.1-6) 10.2.1 20210110, 64-bit',) \n",
      "\n"
     ]
    }
   ],
   "source": [
    "try:\n",
    "    connection = psycopg2.connect(user = \"tcb\",\n",
    "                                  password = \"tcb\",\n",
    "                                  host = \"localhost\",\n",
    "                                  port = \"5432\",\n",
    "                                  database = \"tcb\")\n",
    "\n",
    "    cursor = connection.cursor()\n",
    "    # Print PostgreSQL Connection properties\n",
    "    print ( connection.get_dsn_parameters(),\"\\n\")\n",
    "\n",
    "    # Print PostgreSQL version\n",
    "    cursor.execute(\"SELECT version();\")\n",
    "    record = cursor.fetchone()\n",
    "    print(\"You are connected to - \", record,\"\\n\")\n",
    "\n",
    "except (Exception, psycopg2.Error) as error :\n",
    "    print (\"Error while connecting to PostgreSQL\", error)\n"
   ]
  },
  {
   "cell_type": "code",
   "execution_count": 10,
   "id": "48dbcdce-db50-477b-b86f-9775162f8478",
   "metadata": {},
   "outputs": [],
   "source": [
    "cursor = connection.cursor()"
   ]
  },
  {
   "cell_type": "code",
   "execution_count": 11,
   "id": "870496a4-5e72-4150-89bd-42c627a3b934",
   "metadata": {},
   "outputs": [],
   "source": [
    "cursor.execute(\"SELECT goat_rank, name, country_id, goat_points FROM player_v ORDER BY goat_points DESC NULLS LAST LIMIT 20\")"
   ]
  },
  {
   "cell_type": "code",
   "execution_count": 12,
   "id": "eec5665b-1771-4bcd-b805-cac45800e370",
   "metadata": {},
   "outputs": [
    {
     "name": "stdout",
     "output_type": "stream",
     "text": [
      "[(1, 'Novak Djokovic', 'SRB', 964.0), (2, 'Roger Federer', 'SUI', 936.0), (3, 'Rafael Nadal', 'ESP', 846.0), (4, 'Jimmy Connors', 'USA', 616.0), (5, 'Ivan Lendl', 'USA', 607.0), (6, 'Pete Sampras', 'USA', 523.0), (7, 'John McEnroe', 'USA', 514.0), (8, 'Bjorn Borg', 'SWE', 483.0), (9, 'Andre Agassi', 'USA', 417.0), (10, 'Rod Laver', 'AUS', 389.0), (11, 'Boris Becker', 'GER', 369.0), (12, 'Stefan Edberg', 'SWE', 328.0), (13, 'Andy Murray', 'GBR', 315.0), (14, 'Mats Wilander', 'SWE', 243.0), (15, 'Guillermo Vilas', 'ARG', 242.0), (16, 'Ilie Nastase', 'ROU', 228.0), (17, 'Ken Rosewall', 'AUS', 220.0), (18, 'Arthur Ashe', 'USA', 211.0), (19, 'John Newcombe', 'AUS', 210.0), (20, 'Lleyton Hewitt', 'AUS', 181.0)]\n"
     ]
    }
   ],
   "source": [
    "print(cursor.fetchall())"
   ]
  },
  {
   "cell_type": "markdown",
   "id": "c3ac8b35-f269-4475-8650-b182284d9920",
   "metadata": {},
   "source": [
    "## Query and export output"
   ]
  },
  {
   "cell_type": "code",
   "execution_count": 13,
   "id": "e71e5972-5a85-493a-9e8c-dc1aef992d5e",
   "metadata": {},
   "outputs": [],
   "source": [
    "fid = open('/Users/maxplanck/Desktop/test/export_test.csv', 'w')\n",
    "sql = \"COPY ( SELECT * FROM player_v \\\n",
    "FULL OUTER JOIN player_performance ON player_v.player_id = player_performance.player_id \\\n",
    "ORDER BY player_v.player_id ASC\\\n",
    ") TO STDOUT WITH CSV HEADER\"\n",
    "cursor.copy_expert(sql, fid)\n",
    "fid.close()"
   ]
  },
  {
   "cell_type": "markdown",
   "id": "21fcde21-79d6-4f8b-af81-3ace9e1982c3",
   "metadata": {},
   "source": [
    "## Close connection"
   ]
  },
  {
   "cell_type": "code",
   "execution_count": 7,
   "id": "d84d5649-b430-4179-a52e-83d28b55701b",
   "metadata": {},
   "outputs": [],
   "source": [
    "cursor.close()\n",
    "connection.close()"
   ]
  },
  {
   "cell_type": "code",
   "execution_count": null,
   "id": "3fe017be-22f9-475e-9667-e2b2955dce53",
   "metadata": {},
   "outputs": [],
   "source": [
    "fid = open('/Users/maxplanck/Desktop/test/export_test.csv', 'w')\n",
    "sql = \"COPY (SELECT * FROM player JOIN player_best_rank ON (player.player_id = player_best_rank.player_id)) TO STDOUT WITH CSV HEADER\"\n",
    "cursor.copy_expert(sql, fid)\n",
    "fid.close()"
   ]
  },
  {
   "cell_type": "code",
   "execution_count": null,
   "id": "7c73155a-c9bd-422d-9c62-b537e97cb2a9",
   "metadata": {},
   "outputs": [],
   "source": []
  }
 ],
 "metadata": {
  "kernelspec": {
   "display_name": "Python 3 (ipykernel)",
   "language": "python",
   "name": "python3"
  },
  "language_info": {
   "codemirror_mode": {
    "name": "ipython",
    "version": 3
   },
   "file_extension": ".py",
   "mimetype": "text/x-python",
   "name": "python",
   "nbconvert_exporter": "python",
   "pygments_lexer": "ipython3",
   "version": "3.9.13"
  }
 },
 "nbformat": 4,
 "nbformat_minor": 5
}
